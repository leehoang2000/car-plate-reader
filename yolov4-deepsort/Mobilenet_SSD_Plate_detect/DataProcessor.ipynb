{
  "nbformat": 4,
  "nbformat_minor": 0,
  "metadata": {
    "accelerator": "GPU",
    "colab": {
      "name": "학습부",
      "provenance": [],
      "collapsed_sections": []
    },
    "kernelspec": {
      "display_name": "Python 3",
      "name": "python3"
    }
  },
  "cells": [
    {
      "cell_type": "code",
      "metadata": {
        "id": "NO3vJdAzQIZG"
      },
      "source": [
        "!python -c \"import tensorflow as tf;print(tf.reduce_sum(tf.random.normal([1000, 1000])))\""
      ],
      "execution_count": null,
      "outputs": []
    },
    {
      "cell_type": "code",
      "metadata": {
        "colab": {
          "base_uri": "https://localhost:8080/"
        },
        "id": "3tUE_a94QRDV",
        "outputId": "1e7d623e-342b-4f27-e677-5a50868326aa"
      },
      "source": [
        "from google.colab import drive\r\n",
        "drive.mount('/content/drive')"
      ],
      "execution_count": null,
      "outputs": [
        {
          "output_type": "stream",
          "text": [
            "Drive already mounted at /content/drive; to attempt to forcibly remount, call drive.mount(\"/content/drive\", force_remount=True).\n"
          ],
          "name": "stdout"
        }
      ]
    },
    {
      "cell_type": "code",
      "metadata": {
        "colab": {
          "base_uri": "https://localhost:8080/"
        },
        "id": "jOET5Dz9QrA5",
        "outputId": "ea014a39-c920-4a8a-df83-2b957ece8ec3"
      },
      "source": [
        "!ls"
      ],
      "execution_count": null,
      "outputs": [
        {
          "output_type": "stream",
          "text": [
            "drive  sample_data\n"
          ],
          "name": "stdout"
        }
      ]
    },
    {
      "cell_type": "code",
      "metadata": {
        "colab": {
          "base_uri": "https://localhost:8080/"
        },
        "id": "7c67kZPetZGs",
        "outputId": "9aaefad8-0813-4390-8db8-8b868df7863a"
      },
      "source": [
        "%cd drive/MyDrive/ColabNotebooks/TensorFlow/"
      ],
      "execution_count": null,
      "outputs": [
        {
          "output_type": "stream",
          "text": [
            "/content/drive/MyDrive/ColabNotebooks/TensorFlow\n"
          ],
          "name": "stdout"
        }
      ]
    },
    {
      "cell_type": "code",
      "metadata": {
        "id": "HCOD2cI5Q56W"
      },
      "source": [
        "%cd models/research/\r\n",
        "!protoc object_detection/protos/*.proto --python_out=.\r\n",
        "!pip install cython\r\n",
        "!pip install git+https://github.com/philferriere/cocoapi.git#subdirectory=PythonAPI\r\n",
        "!cp object_detection/packages/tf2/setup.py .\r\n",
        "!python -m pip install .\r\n",
        "!python object_detection/builders/model_builder_tf2_test.py\r\n",
        "#install packages"
      ],
      "execution_count": null,
      "outputs": []
    },
    {
      "cell_type": "code",
      "metadata": {
        "colab": {
          "base_uri": "https://localhost:8080/"
        },
        "id": "98kNFNj46Nou",
        "outputId": "07f781f8-6131-4bf9-c5a8-42afc3586c6c"
      },
      "source": [
        "ls"
      ],
      "execution_count": null,
      "outputs": [
        {
          "output_type": "stream",
          "text": [
            "\u001b[0m\u001b[01;34ma3c_blogpost\u001b[0m/        \u001b[01;34mcvt_text\u001b[0m/       \u001b[01;34mlstm_object_detection\u001b[0m/  \u001b[01;34mrebar\u001b[0m/\n",
            "\u001b[01;34madversarial_text\u001b[0m/    \u001b[01;34mdeeplab\u001b[0m/        \u001b[01;34mmarco\u001b[0m/                  \u001b[01;34mseq_flow_lite\u001b[0m/\n",
            "\u001b[01;34mattention_ocr\u001b[0m/       \u001b[01;34mdeep_speech\u001b[0m/    \u001b[01;34mnst_blogpost\u001b[0m/           setup.py\n",
            "\u001b[01;34maudioset\u001b[0m/            \u001b[01;34mdelf\u001b[0m/           \u001b[01;34mobject_detection\u001b[0m/       \u001b[01;34mslim\u001b[0m/\n",
            "\u001b[01;34mautoaugment\u001b[0m/         \u001b[01;34mefficient-hrl\u001b[0m/  \u001b[01;34mpcl_rl\u001b[0m/                 \u001b[01;34mvid2depth\u001b[0m/\n",
            "\u001b[01;34mcognitive_planning\u001b[0m/  \u001b[01;34mlfads\u001b[0m/          README.md\n"
          ],
          "name": "stdout"
        }
      ]
    },
    {
      "cell_type": "code",
      "metadata": {
        "colab": {
          "base_uri": "https://localhost:8080/"
        },
        "id": "XHaSposkt1Fr",
        "outputId": "62a88c78-c593-4c58-84f0-a4277d8a644f"
      },
      "source": [
        "%cd workspace/training_demo"
      ],
      "execution_count": null,
      "outputs": [
        {
          "output_type": "stream",
          "text": [
            "/content/drive/MyDrive/ColabNotebooks/TensorFlow/workspace/training_demo\n"
          ],
          "name": "stdout"
        }
      ]
    },
    {
      "cell_type": "code",
      "metadata": {
        "colab": {
          "base_uri": "https://localhost:8080/"
        },
        "id": "xBh6-YlH6f0F",
        "outputId": "e52e0f10-01e1-4b9a-c3cc-35b2a93b6e7a"
      },
      "source": [
        "%cd ../.."
      ],
      "execution_count": null,
      "outputs": [
        {
          "output_type": "stream",
          "text": [
            "/content/drive/My Drive/ColabNotebooks/TensorFlow\n"
          ],
          "name": "stdout"
        }
      ]
    },
    {
      "cell_type": "code",
      "metadata": {
        "colab": {
          "base_uri": "https://localhost:8080/"
        },
        "id": "u76Z2UQahy27",
        "outputId": "04fb8623-5e6f-4830-b358-9c38c699582e"
      },
      "source": [
        "%cd scripts/preprocessing/"
      ],
      "execution_count": null,
      "outputs": [
        {
          "output_type": "stream",
          "text": [
            "/content/drive/My Drive/ColabNotebooks/TensorFlow/scripts/preprocessing\n"
          ],
          "name": "stdout"
        }
      ]
    },
    {
      "cell_type": "code",
      "metadata": {
        "colab": {
          "base_uri": "https://localhost:8080/"
        },
        "id": "bP2RTViKa7q3",
        "outputId": "72cc03ce-40fd-4157-f40b-3a5361eea901"
      },
      "source": [
        "!python generate_tfrecord.py -x /content/drive/MyDrive/ColabNotebooks/TensorFlow/workspace/training_demo/images/train -l /content/drive/MyDrive/ColabNotebooks/TensorFlow/workspace/training_demo/annotations/label_map.pbtxt -o /content/drive/MyDrive/ColabNotebooks/TensorFlow/workspace/training_demo/annotations/train.record\r\n",
        "#make .record file for training"
      ],
      "execution_count": null,
      "outputs": [
        {
          "output_type": "stream",
          "text": [
            "Successfully created the TFRecord file: /content/drive/MyDrive/ColabNotebooks/TensorFlow/workspace/training_demo/annotations/train.record\n"
          ],
          "name": "stdout"
        }
      ]
    },
    {
      "cell_type": "code",
      "metadata": {
        "colab": {
          "base_uri": "https://localhost:8080/"
        },
        "id": "wkx629Vh_t52",
        "outputId": "b82ce020-c35d-4f91-f948-f30c77ffa476"
      },
      "source": [
        "!python generate_tfrecord.py -x /content/drive/MyDrive/ColabNotebooks/TensorFlow/workspace/training_demo/images/test -l /content/drive/MyDrive/ColabNotebooks/TensorFlow/workspace/training_demo/annotations/label_map.pbtxt -o /content/drive/MyDrive/ColabNotebooks/TensorFlow/workspace/training_demo/annotations/test.record\r\n"
      ],
      "execution_count": null,
      "outputs": [
        {
          "output_type": "stream",
          "text": [
            "Successfully created the TFRecord file: /content/drive/MyDrive/ColabNotebooks/TensorFlow/workspace/training_demo/annotations/test.record\n"
          ],
          "name": "stdout"
        }
      ]
    },
    {
      "cell_type": "code",
      "metadata": {
        "colab": {
          "base_uri": "https://localhost:8080/"
        },
        "id": "PSLqqhRakrBK",
        "outputId": "9ba522ff-67ef-411e-d7aa-eb7b9d1ec608"
      },
      "source": [
        "%cd ../../workspace/training_demo/"
      ],
      "execution_count": null,
      "outputs": [
        {
          "output_type": "stream",
          "text": [
            "/content/drive/My Drive/ColabNotebooks/TensorFlow/workspace/training_demo\n"
          ],
          "name": "stdout"
        }
      ]
    },
    {
      "cell_type": "code",
      "metadata": {
        "id": "jrruT-cc6UxC"
      },
      "source": [
        "!python model_main_tf2.py --model_dir=/content/drive/MyDrive/ColabNotebooks/TensorFlow/workspace/training_demo/models/my_ssd_mobilenet_320 --pipeline_config_path=/content/drive/MyDrive/ColabNotebooks/TensorFlow/workspace/training_demo/models/my_ssd_mobilenet_320/pipeline.config --num_train_steps=5000"
      ],
      "execution_count": null,
      "outputs": []
    },
    {
      "cell_type": "markdown",
      "metadata": {
        "id": "zUp1nkL08vqD"
      },
      "source": [
        "Evaluate"
      ]
    },
    {
      "cell_type": "code",
      "metadata": {
        "id": "NRD7tTnhS0x2"
      },
      "source": [
        "!python model_main_tf2.py --model_dir=/content/drive/MyDrive/ColabNotebooks/TensorFlow/workspace/training_demo/models/my_ssd_mobilenet_320 --pipeline_config_path=/content/drive/MyDrive/ColabNotebooks/TensorFlow/workspace/training_demo/models/my_ssd_mobilenet_320/pipeline.config --checkpoint_dir=/content/drive/MyDrive/ColabNotebooks/TensorFlow/workspace/training_demo/models/my_ssd_mobilenet_320"
      ],
      "execution_count": null,
      "outputs": []
    },
    {
      "cell_type": "code",
      "metadata": {
        "colab": {
          "base_uri": "https://localhost:8080/"
        },
        "id": "9hYWpJhnWCkr",
        "outputId": "1cac88e5-8cb7-4e75-bb6e-2fa2178cee88"
      },
      "source": [
        "ls"
      ],
      "execution_count": null,
      "outputs": [
        {
          "output_type": "stream",
          "text": [
            "\u001b[0m\u001b[01;34mannotations\u001b[0m/            \u001b[01;34mexported-models-V2\u001b[0m/  model_main_tf2.py\n",
            "\u001b[01;34mexported\u001b[0m/               \u001b[01;34mexported-models-V3\u001b[0m/  \u001b[01;34mmodels\u001b[0m/\n",
            "\u001b[01;34mexported-models\u001b[0m/        exporter_main_v2.py  \u001b[01;34mpre-trained-models\u001b[0m/\n",
            "\u001b[01;34mexported-models-final\u001b[0m/  \u001b[01;34mimages\u001b[0m/\n"
          ],
          "name": "stdout"
        }
      ]
    },
    {
      "cell_type": "code",
      "metadata": {
        "id": "LK_LKX2-G4W5"
      },
      "source": [
        ""
      ],
      "execution_count": null,
      "outputs": []
    },
    {
      "cell_type": "code",
      "metadata": {
        "id": "kIxELwc3VJr3"
      },
      "source": [
        "%load_ext tensorboard\r\n",
        "%tensorboard --logdir=models/my_ssd_mobilenet_320"
      ],
      "execution_count": null,
      "outputs": []
    },
    {
      "cell_type": "code",
      "metadata": {
        "colab": {
          "base_uri": "https://localhost:8080/"
        },
        "id": "BH-0N5U_XveZ",
        "outputId": "6768e756-8e3b-4078-af1c-0f37f67e074f"
      },
      "source": [
        "ls"
      ],
      "execution_count": null,
      "outputs": [
        {
          "output_type": "stream",
          "text": [
            "\u001b[0m\u001b[01;34mdrive\u001b[0m/  \u001b[01;34msample_data\u001b[0m/\n"
          ],
          "name": "stdout"
        }
      ]
    },
    {
      "cell_type": "markdown",
      "metadata": {
        "id": "kwle9_Cj8zEe"
      },
      "source": [
        "Export"
      ]
    },
    {
      "cell_type": "code",
      "metadata": {
        "id": "dRc3hkXh-5T_"
      },
      "source": [
        "!python exporter_main_v2.py --input_type image_tensor --pipeline_config_path ./models/my_ssd_mobilenet_320/pipeline.config --trained_checkpoint_dir ./models/my_ssd_mobilenet_320/ --output_directory ./exported-models-V5/my_model"
      ],
      "execution_count": null,
      "outputs": []
    }
  ]
}